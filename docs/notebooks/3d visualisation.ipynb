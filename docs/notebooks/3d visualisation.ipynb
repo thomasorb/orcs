{
 "cells": [
  {
   "cell_type": "markdown",
   "id": "2bbe45c3-61b4-4cee-820b-6d3bb7ff30c4",
   "metadata": {},
   "source": [
    "# 3D visualization of ORCS maps"
   ]
  },
  {
   "cell_type": "code",
   "execution_count": null,
   "id": "e98c98cf-1e85-4d24-84ec-1bf90d25ffb3",
   "metadata": {},
   "outputs": [],
   "source": [
    "import pyvista as pv"
   ]
  },
  {
   "cell_type": "code",
   "execution_count": null,
   "id": "13ce2d70-3357-456b-8804-025043a16820",
   "metadata": {},
   "outputs": [],
   "source": [
    "import numpy as np\n",
    "import astropy.io.fits as pyfits\n",
    "import matplotlib.pyplot as plt"
   ]
  },
  {
   "cell_type": "code",
   "execution_count": null,
   "id": "fc341d1a-2fc7-443b-8796-37d16ebbcb89",
   "metadata": {},
   "outputs": [],
   "source": [
    "import pandas as pd"
   ]
  },
  {
   "cell_type": "code",
   "execution_count": null,
   "id": "d751dbc9-f852-4a06-9ad2-76a6d64f7432",
   "metadata": {},
   "outputs": [],
   "source": [
    "def load_map(line, param, comp):\n",
    "    if comp == 1: comp =''\n",
    "    else: comp = f'_{comp}'\n",
    "    return pyfits.getdata(f'IC1613_Field1_SN3/MAPS/IC1613_Field1_SN3.LineMaps.map.{line}{comp}.1x1.{param}.fits').astype(float)\n",
    "\n",
    "def load_maps(line, param, ncomp):\n",
    "\n",
    "    dfs = list()\n",
    "    for icomp in np.arange(ncomp) + 1:\n",
    "        idf = pd.DataFrame(columns=['x', 'y', param])\n",
    "        imap = load_map(line, param, icomp)\n",
    "        ix, iy = np.nonzero(~np.isnan(imap))\n",
    "        idat = imap[~np.isnan(imap)]\n",
    "        idf['x'] = ix\n",
    "        idf['y'] = iy\n",
    "        idf[param] = idat\n",
    "        dfs.append(idf)\n",
    "    df = pd.concat(dfs, ignore_index=True)\n",
    "    return df\n",
    "\n",
    "vels = load_maps(6563, 'velocity', 3)\n",
    "fluxes = load_maps(6563, 'flux', 3)"
   ]
  },
  {
   "cell_type": "code",
   "execution_count": null,
   "id": "8f57c527-be06-4ef7-8dea-6f6a11c7f878",
   "metadata": {},
   "outputs": [],
   "source": [
    "ok = fluxes.flux > np.nanpercentile(fluxes.flux, 0)\n",
    "ok &= (vels.velocity < 0) & (vels.velocity > -300)\n",
    "vels = vels[ok]\n",
    "fluxes = fluxes[ok]\n",
    "vel_corr = vels.velocity #np.nanmedian(vels.velocity)\n",
    "positions = np.squeeze(np.dstack((vel_corr, vels.x - np.nanmedian(vels.x), vels.y - np.nanmedian(vels.y))))\n",
    "velocity_cloud = pv.PolyData(positions)\n",
    "velocity_cloud[r'Flux'] = fluxes.flux\n",
    "clim = np.nanpercentile(fluxes.flux, [2, 98])\n",
    "opacity = fluxes.flux.values.copy()\n",
    "opacity -= opacity.min()\n",
    "opacity /= opacity.max()\n",
    "plotter = pv.Plotter(window_size=(1200, 1200))\n",
    "plotter.set_background('black')\n",
    "plotter.add_mesh(velocity_cloud, \n",
    "           lighting=False, \n",
    "           show_edges=True,\n",
    "           show_scalar_bar=False, \n",
    "           render_points_as_spheres=True, \n",
    "           ambient=0.5, point_size=5, \n",
    "           interpolate_before_map=False, \n",
    "           opacity=opacity**0.5, \n",
    "           cmap='plasma', clim=clim,)\n",
    "plotter.show()\n",
    "plotter.close()"
   ]
  },
  {
   "cell_type": "code",
   "execution_count": null,
   "id": "2e539d94-9c1d-4cb8-997c-0f119003db03",
   "metadata": {},
   "outputs": [],
   "source": []
  }
 ],
 "metadata": {
  "kernelspec": {
   "display_name": "Python 3 (ipykernel)",
   "language": "python",
   "name": "python3"
  },
  "language_info": {
   "codemirror_mode": {
    "name": "ipython",
    "version": 3
   },
   "file_extension": ".py",
   "mimetype": "text/x-python",
   "name": "python",
   "nbconvert_exporter": "python",
   "pygments_lexer": "ipython3",
   "version": "3.10.9"
  }
 },
 "nbformat": 4,
 "nbformat_minor": 5
}
