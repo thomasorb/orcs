{
 "cells": [
  {
   "cell_type": "markdown",
   "metadata": {},
   "source": [
    "# Example of a single spectrum fit.\n",
    "\n",
    "## First step: extracting and viewing the spectrum"
   ]
  },
  {
   "cell_type": "code",
   "execution_count": 1,
   "metadata": {
    "collapsed": true
   },
   "outputs": [],
   "source": [
    "# inline plotting for jupyter notebook. Do not put this line in a real python script.\n",
    "%matplotlib inline"
   ]
  },
  {
   "cell_type": "code",
   "execution_count": 2,
   "metadata": {
    "collapsed": true
   },
   "outputs": [],
   "source": [
    "# import base class for the manipulation of a SITELLE spectral cube: HDFCube\n",
    "from orcs.core import HDFCube\n",
    "import pylab as pl"
   ]
  },
  {
   "cell_type": "code",
   "execution_count": 3,
   "metadata": {},
   "outputs": [
    {
     "name": "stderr",
     "output_type": "stream",
     "text": [
      "\u001b[0mINFO| Data shape : (2048, 2064, 840)\u001b[0m\n",
      "\u001b[0mINFO| Cube is in WAVENUMBER (cm-1)\u001b[0m\n",
      "\u001b[0mINFO| Cube is CALIBRATED in wavenumber\u001b[0m\n"
     ]
    }
   ],
   "source": [
    "# load spectral cube\n",
    "cube = HDFCube('/home/thomas/M31_SN3.merged.cm1.1.0.hdf5')"
   ]
  },
  {
   "cell_type": "code",
   "execution_count": 4,
   "metadata": {},
   "outputs": [
    {
     "name": "stderr",
     "output_type": "stream",
     "text": [
      "\u001b[0mINFO| Number of integrated pixels: 13\u001b[0m\n"
     ]
    },
    {
     "name": "stdout",
     "output_type": "stream",
     "text": [
      " [==========] [100%] [completed in 0.067 s]                                   \n"
     ]
    },
    {
     "name": "stderr",
     "output_type": "stream",
     "text": [
      "\u001b[0mINFO| Init of the parallel processing server with 4 threads\u001b[0m\n"
     ]
    },
    {
     "name": "stdout",
     "output_type": "stream",
     "text": [
      " [==========] [100%] [completed in 0.440 s]                                   \n"
     ]
    },
    {
     "data": {
      "text/plain": [
       "[<matplotlib.lines.Line2D at 0x7f9e26fc5b10>]"
      ]
     },
     "execution_count": 4,
     "metadata": {},
     "output_type": "execute_result"
    },
    {
     "data": {
      "image/png": "[encoded data removed]",
      "text/plain": [
       "<matplotlib.figure.Figure at 0x7f9e2707e050>"
      ]
     },
     "metadata": {},
     "output_type": "display_data"
    }
   ],
   "source": [
    "# extract and plot a spectrum at x=919 y=893 integrated over a radius of 2 pixels\n",
    "axis, spectrum = cube.extract_spectrum(919, 893, 2)\n",
    "pl.plot(axis, spectrum)"
   ]
  },
  {
   "cell_type": "markdown",
   "metadata": {},
   "source": [
    "## Second step: fitting the spectrum\n",
    "\n",
    "* The emission lines to fit are passed by name (their wavenumber, in cm-1, could also be given directly). \n",
    "  Remember that:\n",
    "  \n",
    "  $\\sigma [\\text{cm}^{-1}] = \\frac{1e7}{\\lambda [\\text{nm}]}$\n",
    "  \n",
    "  \n",
    "  \n",
    "* The line model is `gaussian` by default. Here we use the more realistic model of a cardinal sinus convoluted with a gaussian `sincgauss`:\n",
    "  \n",
    "  `fmodel = 'sincgauss'`\n",
    "\n",
    "\n",
    "* The velocity of the lines is -513 km/s. It is passed with the argument:\n",
    "\n",
    "  `pos_cov = -513`\n",
    "\n",
    "  The velocity is considered as a covarying parameter. By default all the lines are considered to share the same velocity, i.e. they all have the same covarying group. That's why the fitted velocity is the same for both lines.\n",
    "\n",
    "\n",
    "* The broadening is considered to be a free parameter by default. It can be different for each line.\n"
   ]
  },
  {
   "cell_type": "code",
   "execution_count": 5,
   "metadata": {},
   "outputs": [
    {
     "name": "stderr",
     "output_type": "stream",
     "text": [
      "\u001b[0mINFO| Number of integrated pixels: 13\u001b[0m\n"
     ]
    },
    {
     "name": "stdout",
     "output_type": "stream",
     "text": [
      " [==========] [100%] [completed in 0.012 s]                                   "
     ]
    },
    {
     "name": "stderr",
     "output_type": "stream",
     "text": [
      "\u001b[0mINFO| Init of the parallel processing server with 4 threads\u001b[0m\n"
     ]
    },
    {
     "name": "stdout",
     "output_type": "stream",
     "text": [
      "\n",
      " [==========] [100%] [completed in 0.436 s]                                   "
     ]
    },
    {
     "name": "stderr",
     "output_type": "stream",
     "text": [
      "\u001b[33mWARNING| /home/thomas/Astro/Python/ORB/Orcs/orcs/core.py:1537: RuntimeWarning: invalid value encountered in sqrt\n",
      "  noise_counts = np.sqrt(total_counts)\n",
      "\u001b[0m\n"
     ]
    },
    {
     "name": "stdout",
     "output_type": "stream",
     "text": [
      "\n",
      "\n",
      "===== Results ======\n",
      "Velocity:  [-506.4(1.3) -506.4(1.3)]\n",
      "Broadening:  [25.8(1.7) 27.4(6.5)]\n",
      "Flux:  [1.678(88)e-15 4.52(92)e-16]\n",
      "====================\n"
     ]
    }
   ],
   "source": [
    "axis, spectrum, fit_res = cube.fit_lines_in_spectrum(919, 893, 2, ['Halpha', '[NII]6583'],\n",
    "                                                     fmodel='sincgauss',\n",
    "                                                     pos_cov=-513)\n",
    "print '\\n===== Results ======'\n",
    "print 'Velocity: ', fit_res['velocity_gvar']\n",
    "print 'Broadening: ', fit_res['broadening_gvar'] \n",
    "print 'Flux: ', fit_res['flux_gvar'] \n",
    "print '===================='"
   ]
  },
  {
   "cell_type": "markdown",
   "metadata": {},
   "source": [
    "### Ungroup the velocity parameter\n",
    "\n",
    "We can ungroup the velocity of the emission lines by giving each line a unique group label. We can set:\n",
    "  \n",
    "  `pos_def=['1', '2']`\n",
    "  \n",
    "I this case the measured velocity must be different for both lines. But the precision will also be worsen.\n"
   ]
  },
  {
   "cell_type": "code",
   "execution_count": 6,
   "metadata": {},
   "outputs": [
    {
     "name": "stderr",
     "output_type": "stream",
     "text": [
      "\u001b[0mINFO| Number of integrated pixels: 13\u001b[0m\n"
     ]
    },
    {
     "name": "stdout",
     "output_type": "stream",
     "text": [
      " [==========] [100%] [completed in 0.021 s]                                   "
     ]
    },
    {
     "name": "stderr",
     "output_type": "stream",
     "text": [
      "\u001b[0mINFO| Init of the parallel processing server with 4 threads\u001b[0m\n"
     ]
    },
    {
     "name": "stdout",
     "output_type": "stream",
     "text": [
      "\n",
      " [==========] [100%] [completed in 0.426 s]                                   \n",
      "\n",
      "===== Results ======\n",
      "Velocity:  [-506.0(1.3) -512.8(5.3)]\n",
      "Broadening:  [25.8(1.7) 27.7(6.4)]\n",
      "Flux:  [1.679(88)e-15 4.59(92)e-16]\n",
      "====================\n"
     ]
    }
   ],
   "source": [
    "axis, spectrum, fit_res = cube.fit_lines_in_spectrum(919, 893, 2, ['Halpha', '[NII]6583'],\n",
    "                                                     fmodel='sincgauss',\n",
    "                                                     pos_cov=-513,\n",
    "                                                     pos_def=['1', '2'])\n",
    "print '\\n===== Results ======'\n",
    "print 'Velocity: ', fit_res['velocity_gvar']\n",
    "print 'Broadening: ', fit_res['broadening_gvar'] \n",
    "print 'Flux: ', fit_res['flux_gvar'] \n",
    "print '===================='"
   ]
  },
  {
   "cell_type": "markdown",
   "metadata": {},
   "source": [
    "### Group the broadening parameter\n",
    "\n",
    "We can group the broadening parameter of the emission lines by giving the same group label to the lines. We can set:\n",
    "  \n",
    "  `sigma_def=['1', '1']`\n",
    "  \n",
    "I this case the measured broadening will be the same for both lines and the precision of the estimations are better."
   ]
  },
  {
   "cell_type": "code",
   "execution_count": 7,
   "metadata": {},
   "outputs": [
    {
     "name": "stderr",
     "output_type": "stream",
     "text": [
      "\u001b[0mINFO| Number of integrated pixels: 13\u001b[0m\n"
     ]
    },
    {
     "name": "stdout",
     "output_type": "stream",
     "text": [
      " [==========] [100%] [completed in 0.018 s]                                   "
     ]
    },
    {
     "name": "stderr",
     "output_type": "stream",
     "text": [
      "\u001b[0mINFO| Init of the parallel processing server with 4 threads\u001b[0m\n"
     ]
    },
    {
     "name": "stdout",
     "output_type": "stream",
     "text": [
      "\n",
      " [==========] [100%] [completed in 0.426 s]                                   \n",
      "\n",
      "===== Results ======\n",
      "Velocity:  [-506.4(1.3) -506.4(1.3)]\n",
      "Broadening:  [25.9(1.6) 25.9(1.6)]\n",
      "Flux:  [1.681(86)e-15 4.40(60)e-16]\n",
      "====================\n"
     ]
    }
   ],
   "source": [
    "axis, spectrum, fit_res = cube.fit_lines_in_spectrum(\n",
    "    919, 893, 2, ['Halpha', '[NII]6583'],\n",
    "    fmodel='sincgauss',\n",
    "    pos_cov=-513,\n",
    "    pos_def=['1', '1'],\n",
    "    sigma_def=['1', '1'])\n",
    "print '\\n===== Results ======'\n",
    "print 'Velocity: ', fit_res['velocity_gvar']\n",
    "print 'Broadening: ', fit_res['broadening_gvar'] \n",
    "print 'Flux: ', fit_res['flux_gvar'] \n",
    "print '===================='"
   ]
  },
  {
   "cell_type": "markdown",
   "metadata": {},
   "source": [
    "### Plotting the result"
   ]
  },
  {
   "cell_type": "code",
   "execution_count": 8,
   "metadata": {},
   "outputs": [
    {
     "data": {
      "text/plain": [
       "(14500, 15500)"
      ]
     },
     "execution_count": 8,
     "metadata": {},
     "output_type": "execute_result"
    },
    {
     "data": {
      "image/png": "[encoded data removed]",
      "text/plain": [
       "<matplotlib.figure.Figure at 0x7f9e26f49e50>"
      ]
     },
     "metadata": {},
     "output_type": "display_data"
    }
   ],
   "source": [
    "pl.plot(axis, spectrum, label='Real spectrum')\n",
    "pl.plot(axis, fit_res['fitted_vector'], label='Fitted spectrum')\n",
    "pl.legend()\n",
    "pl.xlim((14500, 15500))"
   ]
  },
  {
   "cell_type": "markdown",
   "metadata": {},
   "source": [
    "### Model with no filter\n",
    "\n",
    "The filter model can be removed but the range over which the fit is made must be limited to the filter bandpass. This is made transparently by setting the option\n",
    "\n",
    "`nofilter = True`\n"
   ]
  },
  {
   "cell_type": "code",
   "execution_count": 9,
   "metadata": {},
   "outputs": [
    {
     "name": "stderr",
     "output_type": "stream",
     "text": [
      "\u001b[0mINFO| Number of integrated pixels: 13\u001b[0m\n"
     ]
    },
    {
     "name": "stdout",
     "output_type": "stream",
     "text": [
      " [==========] [100%] [completed in 0.012 s]                                   "
     ]
    },
    {
     "name": "stderr",
     "output_type": "stream",
     "text": [
      "\u001b[0mINFO| Init of the parallel processing server with 4 threads\u001b[0m\n"
     ]
    },
    {
     "name": "stdout",
     "output_type": "stream",
     "text": [
      "\n",
      " [==========] [100%] [completed in 0.508 s]                                   \n",
      "\n",
      "===== Results ======\n",
      "Velocity:  [-506.4(1.5) -506.4(1.5)]\n",
      "Broadening:  [26.2(1.8) 26.2(1.8)]\n",
      "Flux:  [1.676(98)e-15 4.47(68)e-16]\n",
      "====================\n"
     ]
    },
    {
     "data": {
      "text/plain": [
       "(14500, 15500)"
      ]
     },
     "execution_count": 9,
     "metadata": {},
     "output_type": "execute_result"
    },
    {
     "data": {
      "image/png": "[encoded data removed]",
      "text/plain": [
       "<matplotlib.figure.Figure at 0x7f9e24da2510>"
      ]
     },
     "metadata": {},
     "output_type": "display_data"
    }
   ],
   "source": [
    "axis, spectrum, fit_res = cube.fit_lines_in_spectrum(\n",
    "    919, 893, 2, ['Halpha', '[NII]6583'],\n",
    "    fmodel='sincgauss',\n",
    "    pos_cov=-513,\n",
    "    pos_def=['1', '1'],\n",
    "    sigma_def=['1', '1'],\n",
    "    nofilter=True)\n",
    "print '\\n===== Results ======'\n",
    "print 'Velocity: ', fit_res['velocity_gvar']\n",
    "print 'Broadening: ', fit_res['broadening_gvar'] \n",
    "print 'Flux: ', fit_res['flux_gvar'] \n",
    "print '===================='\n",
    "pl.plot(axis, spectrum, label='Real spectrum')\n",
    "pl.plot(axis, fit_res['fitted_vector'], label='Fitted spectrum')\n",
    "pl.legend()\n",
    "pl.xlim((14500, 15500))"
   ]
  },
  {
   "cell_type": "code",
   "execution_count": null,
   "metadata": {
    "collapsed": true
   },
   "outputs": [],
   "source": []
  }
 ],
 "metadata": {
  "kernelspec": {
   "display_name": "Python 2",
   "language": "python",
   "name": "python2"
  },
  "language_info": {
   "codemirror_mode": {
    "name": "ipython",
    "version": 2
   },
   "file_extension": ".py",
   "mimetype": "text/x-python",
   "name": "python",
   "nbconvert_exporter": "python",
   "pygments_lexer": "ipython2",
   "version": "2.7.13"
  },
  "toc": {
   "colors": {
    "hover_highlight": "#DAA520",
    "navigate_num": "#000000",
    "navigate_text": "#333333",
    "running_highlight": "#FF0000",
    "selected_highlight": "#FFD700",
    "sidebar_border": "#EEEEEE",
    "wrapper_background": "#FFFFFF"
   },
   "moveMenuLeft": true,
   "nav_menu": {
    "height": "154px",
    "width": "252px"
   },
   "navigate_menu": true,
   "number_sections": true,
   "sideBar": true,
   "threshold": 4,
   "toc_cell": false,
   "toc_section_display": "block",
   "toc_window_display": false,
   "widenNotebook": false
  }
 },
 "nbformat": 4,
 "nbformat_minor": 2
}
