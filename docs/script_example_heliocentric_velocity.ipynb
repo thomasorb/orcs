{
 "cells": [
  {
   "cell_type": "markdown",
   "metadata": {},
   "source": [
    "# Heliocentric velocity correction\n",
    "\n",
    "Measured velocity can be projected into the heliocentric reference system or the local standard of rest with the function ```SpectralCube.get_heliocentric_velocity()```\n",
    "\n",
    "The correction is based on the module orcs/rvcorrect.py which has been created using David Nidever IDL function RVCORRECT itself translated from the IRAF function RVCORRECT.\n",
    "\n",
    "The IDL code can be found at::\n",
    "    \n",
    "  http://www.astro.virginia.edu/~dln5q/research/idl/rvcorrect.pro\n",
    "\n",
    "The description of the IRAF function can be found at::\n",
    "    \n",
    "  http://stsdas.stsci.edu/cgi-bin/gethelp.cgi?rvcorrect\n"
   ]
  },
  {
   "cell_type": "code",
   "execution_count": 3,
   "metadata": {},
   "outputs": [
    {
     "name": "stderr",
     "output_type": "stream",
     "text": [
      "\u001b[0mINFO| Data shape : (2048, 2064, 840)\u001b[0m\n",
      "\u001b[0mINFO| Cube is in WAVENUMBER (cm-1)\u001b[0m\n",
      "\u001b[0mINFO| Cube is CALIBRATED in wavenumber\u001b[0m\n",
      "\u001b[0mINFO| VOBS: 0.000000 km.s-1\u001b[0m\n",
      "\u001b[0mINFO| HJD: 2457625.495001\u001b[0m\n",
      "\u001b[0mINFO| VHELIO: 3.579457 km.s-1\u001b[0m\n",
      "\u001b[0mINFO| VLSR: 5.577777 km.s-1\u001b[0m\n",
      "\u001b[0mINFO| VDIURNAL: 0.171531 km.s-1\u001b[0m\n",
      "\u001b[0mINFO| VLUNAR: -0.010128 km.s-1\u001b[0m\n",
      "\u001b[0mINFO| VANNUAL: 3.418055 km.s-1\u001b[0m\n",
      "\u001b[0mINFO| VSOLAR: 1.998319 km.s-1\u001b[0m\n"
     ]
    },
    {
     "name": "stdout",
     "output_type": "stream",
     "text": [
      "measured velocity (km/s): 0.0\n",
      "heliocentric velocity (km/s): 3.57945729968\n",
      "local standard of rest velocity (kms): 5.57777679718\n"
     ]
    }
   ],
   "source": [
    "from orcs.process import SpectralCube\n",
    "\n",
    "v = 0. # km/s\n",
    "\n",
    "cube = SpectralCube('/home/thomas/M31_SN3.merged.cm1.1.0.hdf5')\n",
    "vhelio, vlsr = cube.get_heliocentric_velocity(v)\n",
    "print 'measured velocity (km/s):', v\n",
    "print 'heliocentric velocity (km/s):', vhelio\n",
    "print 'local standard of rest velocity (kms):', vlsr"
   ]
  },
  {
   "cell_type": "code",
   "execution_count": null,
   "metadata": {},
   "outputs": [],
   "source": []
  }
 ],
 "metadata": {
  "kernelspec": {
   "display_name": "orb",
   "language": "python",
   "name": "orb"
  },
  "language_info": {
   "codemirror_mode": {
    "name": "ipython",
    "version": 2
   },
   "file_extension": ".py",
   "mimetype": "text/x-python",
   "name": "python",
   "nbconvert_exporter": "python",
   "pygments_lexer": "ipython2",
   "version": "2.7.14"
  }
 },
 "nbformat": 4,
 "nbformat_minor": 2
}
